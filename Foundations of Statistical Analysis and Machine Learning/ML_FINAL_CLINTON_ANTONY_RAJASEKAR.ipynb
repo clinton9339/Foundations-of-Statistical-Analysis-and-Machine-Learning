{
 "cells": [
  {
   "cell_type": "markdown",
   "metadata": {},
   "source": [
    "# Statistical Machine Learning - Final exam exercise 1"
   ]
  },
  {
   "cell_type": "markdown",
   "metadata": {},
   "source": [
    "### <span style=\"color:red\"> WRITE YOUR NAME HERE: </span>   "
   ]
  },
  {
   "cell_type": "code",
   "execution_count": 51,
   "metadata": {},
   "outputs": [],
   "source": [
    "#CLINTON ANTONY RAJASEKAR"
   ]
  },
  {
   "cell_type": "markdown",
   "metadata": {},
   "source": [
    "### Guidelines\n",
    "\n",
    "The exam is composed of two exercises (on separate notebooks) each one with a specific dataset. In total, there are three independent parts to complete:\n",
    "* Exercise 1 (8 points): regression\n",
    "* Exercise 2 part 1 (9 points): classification\n",
    "* Exercise 2 part 2 (3 points): clustering\n",
    "\n",
    "You can work directly on the notebooks. At the end of the 2.5-hour exam, you will have 5 minutes to upload it on Teams.\n",
    "\n",
    "Don't forget that you have to complete the TWO notebooks to have a passing grade.\n",
    "\n",
    "Many questions can be tackled even if the previous ones are not completed or not correct.\n",
    "\n",
    "The exam is long on purpose, so don't worry if you cannot complete 100 % of the questions. Do as much as you can. In case you are blocked at some point, don't panic. Just move on to the next question. And remember written answers where you have to explain or comment your results are worth many points.\n",
    "\n",
    "Avoid \"naive\" copy-pasting: you will not understand what you are doing and it will be a problem for the next questions. Notebooks that are cluttered with useless code that has been mindlessly copied will be penalized. Just do what is asked at each question. \n",
    "\n",
    "Moreover, you are reminded that any messaging with each other during the exam or use of generative AI models such as ChatGPT, Bard or Bing will be considered as cheating and will result in the termination of your exam. Moreover, similarities between student works are easy to spot. \n",
    "\n",
    "If a question seems unclear and you are not sure about what you have to do, do not hesitate to raise your hand and ask for clarification.\n",
    "\n",
    "Good luck!"
   ]
  },
  {
   "cell_type": "markdown",
   "metadata": {},
   "source": [
    "## Exercise 1 (8 points)"
   ]
  },
  {
   "cell_type": "markdown",
   "metadata": {},
   "source": [
    "Here are some libraries that could be usefull in the exercises."
   ]
  },
  {
   "cell_type": "code",
   "execution_count": 38,
   "metadata": {
    "ExecuteTime": {
     "end_time": "2022-05-24T20:46:00.889907Z",
     "start_time": "2022-05-24T20:45:59.574192Z"
    }
   },
   "outputs": [],
   "source": [
    "import numpy as np\n",
    "import matplotlib.pyplot as plt\n",
    "import pandas as pd\n",
    "import sklearn "
   ]
  },
  {
   "cell_type": "markdown",
   "metadata": {},
   "source": [
    "We will work here on the Boston housing data set that records the median value of houses for 506 neighborhoods around Boston. Our task is to predict the median house value."
   ]
  },
  {
   "cell_type": "markdown",
   "metadata": {},
   "source": [
    "Let's import that data set.  "
   ]
  },
  {
   "cell_type": "code",
   "execution_count": 39,
   "metadata": {},
   "outputs": [],
   "source": [
    "data_url = \"http://lib.stat.cmu.edu/datasets/boston\"\n",
    "raw_df = pd.read_csv(data_url, sep=\"\\s+\", skiprows=22, header=None)\n",
    "data = np.hstack([raw_df.values[::2, :], raw_df.values[1::2, :2]])\n",
    "\n",
    "colnames = ['CRIM', 'ZN', 'INDUS', 'CHAS', 'NOX', 'RM', 'AGE', 'DIS', 'RAD', 'TAX', 'PTRATIO','B', 'LSTAT']\n",
    "features = pd.DataFrame(data, columns=colnames).drop('B', axis=1)\n",
    "target = raw_df.values[1::2, 2]"
   ]
  },
  {
   "cell_type": "markdown",
   "metadata": {},
   "source": [
    "Below is the description of the variables in the dataset. Come back to it when you need to."
   ]
  },
  {
   "cell_type": "markdown",
   "metadata": {},
   "source": [
    "### Boston house prices dataset\n",
    "---------------------------\n",
    "\n",
    "**Data Set Characteristics:**  \n",
    "\n",
    "    :Number of Instances: 506 \n",
    "\n",
    "    :Number of Attributes: 13 numeric/categorical predictive.\n",
    "\n",
    "    :Attribute Information (in order):\n",
    "        - CRIM     per capita crime rate by town\n",
    "        - ZN       proportion of residential land zoned for lots over 25,000 sq.ft.\n",
    "        - INDUS    proportion of non-retail business acres per town\n",
    "        - CHAS     Charles River dummy variable (= 1 if tract bounds river; 0 otherwise)\n",
    "        - NOX      nitric oxides concentration (parts per 10 million)\n",
    "        - RM       average number of rooms per dwelling\n",
    "        - AGE      proportion of owner-occupied units built prior to 1940\n",
    "        - DIS      weighted distances to five Boston employment centres\n",
    "        - RAD      index of accessibility to radial highways\n",
    "        - TAX      full-value property-tax rate per 10,000 dollars\n",
    "        - PTRATIO  pupil-teacher ratio by town\n",
    "        - LSTAT    % lower status of the population\n",
    "    \n",
    "    :Target:\n",
    "        - HOUSEVALUE    Median value of owner-occupied homes in slices of 1000 dollars\n",
    "\n",
    "    :Missing Attribute Values: None\n",
    "\n",
    "    :Creator: Harrison, D. and Rubinfeld, D.L."
   ]
  },
  {
   "cell_type": "markdown",
   "metadata": {},
   "source": [
    "Let's prepare the data frame of the target (corresponding to the median value (in thousands of dollars) of the houses in a specific neighborhood of Boston):"
   ]
  },
  {
   "cell_type": "code",
   "execution_count": 40,
   "metadata": {
    "ExecuteTime": {
     "end_time": "2022-05-24T20:47:57.524251Z",
     "start_time": "2022-05-24T20:47:57.521156Z"
    }
   },
   "outputs": [
    {
     "data": {
      "text/plain": [
       "0    24.0\n",
       "1    21.6\n",
       "2    34.7\n",
       "3    33.4\n",
       "4    36.2\n",
       "Name: HOUSEVALUE, dtype: float64"
      ]
     },
     "execution_count": 40,
     "metadata": {},
     "output_type": "execute_result"
    }
   ],
   "source": [
    "y = pd.Series(data=target, name='HOUSEVALUE')\n",
    "y.head()"
   ]
  },
  {
   "cell_type": "markdown",
   "metadata": {},
   "source": [
    "Let's prepare the data frame of the features:"
   ]
  },
  {
   "cell_type": "code",
   "execution_count": 41,
   "metadata": {
    "ExecuteTime": {
     "end_time": "2022-05-24T20:48:01.579916Z",
     "start_time": "2022-05-24T20:48:01.561081Z"
    }
   },
   "outputs": [
    {
     "data": {
      "text/html": [
       "<div>\n",
       "<style scoped>\n",
       "    .dataframe tbody tr th:only-of-type {\n",
       "        vertical-align: middle;\n",
       "    }\n",
       "\n",
       "    .dataframe tbody tr th {\n",
       "        vertical-align: top;\n",
       "    }\n",
       "\n",
       "    .dataframe thead th {\n",
       "        text-align: right;\n",
       "    }\n",
       "</style>\n",
       "<table border=\"1\" class=\"dataframe\">\n",
       "  <thead>\n",
       "    <tr style=\"text-align: right;\">\n",
       "      <th></th>\n",
       "      <th>CRIM</th>\n",
       "      <th>ZN</th>\n",
       "      <th>INDUS</th>\n",
       "      <th>CHAS</th>\n",
       "      <th>NOX</th>\n",
       "      <th>RM</th>\n",
       "      <th>AGE</th>\n",
       "      <th>DIS</th>\n",
       "      <th>RAD</th>\n",
       "      <th>TAX</th>\n",
       "      <th>PTRATIO</th>\n",
       "      <th>LSTAT</th>\n",
       "    </tr>\n",
       "  </thead>\n",
       "  <tbody>\n",
       "    <tr>\n",
       "      <th>0</th>\n",
       "      <td>0.00632</td>\n",
       "      <td>18.0</td>\n",
       "      <td>2.31</td>\n",
       "      <td>0.0</td>\n",
       "      <td>0.538</td>\n",
       "      <td>6.575</td>\n",
       "      <td>65.2</td>\n",
       "      <td>4.0900</td>\n",
       "      <td>1.0</td>\n",
       "      <td>296.0</td>\n",
       "      <td>15.3</td>\n",
       "      <td>4.98</td>\n",
       "    </tr>\n",
       "    <tr>\n",
       "      <th>1</th>\n",
       "      <td>0.02731</td>\n",
       "      <td>0.0</td>\n",
       "      <td>7.07</td>\n",
       "      <td>0.0</td>\n",
       "      <td>0.469</td>\n",
       "      <td>6.421</td>\n",
       "      <td>78.9</td>\n",
       "      <td>4.9671</td>\n",
       "      <td>2.0</td>\n",
       "      <td>242.0</td>\n",
       "      <td>17.8</td>\n",
       "      <td>9.14</td>\n",
       "    </tr>\n",
       "    <tr>\n",
       "      <th>2</th>\n",
       "      <td>0.02729</td>\n",
       "      <td>0.0</td>\n",
       "      <td>7.07</td>\n",
       "      <td>0.0</td>\n",
       "      <td>0.469</td>\n",
       "      <td>7.185</td>\n",
       "      <td>61.1</td>\n",
       "      <td>4.9671</td>\n",
       "      <td>2.0</td>\n",
       "      <td>242.0</td>\n",
       "      <td>17.8</td>\n",
       "      <td>4.03</td>\n",
       "    </tr>\n",
       "    <tr>\n",
       "      <th>3</th>\n",
       "      <td>0.03237</td>\n",
       "      <td>0.0</td>\n",
       "      <td>2.18</td>\n",
       "      <td>0.0</td>\n",
       "      <td>0.458</td>\n",
       "      <td>6.998</td>\n",
       "      <td>45.8</td>\n",
       "      <td>6.0622</td>\n",
       "      <td>3.0</td>\n",
       "      <td>222.0</td>\n",
       "      <td>18.7</td>\n",
       "      <td>2.94</td>\n",
       "    </tr>\n",
       "    <tr>\n",
       "      <th>4</th>\n",
       "      <td>0.06905</td>\n",
       "      <td>0.0</td>\n",
       "      <td>2.18</td>\n",
       "      <td>0.0</td>\n",
       "      <td>0.458</td>\n",
       "      <td>7.147</td>\n",
       "      <td>54.2</td>\n",
       "      <td>6.0622</td>\n",
       "      <td>3.0</td>\n",
       "      <td>222.0</td>\n",
       "      <td>18.7</td>\n",
       "      <td>5.33</td>\n",
       "    </tr>\n",
       "  </tbody>\n",
       "</table>\n",
       "</div>"
      ],
      "text/plain": [
       "      CRIM    ZN  INDUS  CHAS    NOX     RM   AGE     DIS  RAD    TAX  \\\n",
       "0  0.00632  18.0   2.31   0.0  0.538  6.575  65.2  4.0900  1.0  296.0   \n",
       "1  0.02731   0.0   7.07   0.0  0.469  6.421  78.9  4.9671  2.0  242.0   \n",
       "2  0.02729   0.0   7.07   0.0  0.469  7.185  61.1  4.9671  2.0  242.0   \n",
       "3  0.03237   0.0   2.18   0.0  0.458  6.998  45.8  6.0622  3.0  222.0   \n",
       "4  0.06905   0.0   2.18   0.0  0.458  7.147  54.2  6.0622  3.0  222.0   \n",
       "\n",
       "   PTRATIO  LSTAT  \n",
       "0     15.3   4.98  \n",
       "1     17.8   9.14  \n",
       "2     17.8   4.03  \n",
       "3     18.7   2.94  \n",
       "4     18.7   5.33  "
      ]
     },
     "execution_count": 41,
     "metadata": {},
     "output_type": "execute_result"
    }
   ],
   "source": [
    "X = features.copy()\n",
    "X.head()"
   ]
  },
  {
   "cell_type": "markdown",
   "metadata": {},
   "source": [
    "### 1) We will focus here on LSTAT. \n",
    "- Compute the correlation of LSTAT with the other features. \n",
    "- Which other feature is the most correlated with LSTAT? - Which is the least?"
   ]
  },
  {
   "cell_type": "code",
   "execution_count": 42,
   "metadata": {},
   "outputs": [
    {
     "name": "stdout",
     "output_type": "stream",
     "text": [
      "Most correlated feature with LSTAT: INDUS\n",
      "Least correlated feature with LSTAT: RM\n"
     ]
    }
   ],
   "source": [
    "import pandas as pd\n",
    "\n",
    " \n",
    "\n",
    "# Compute the correlation matrix\n",
    "\n",
    "correlation_matrix = X.corr()\n",
    "\n",
    " \n",
    "\n",
    "# Get the correlation of LSTAT with other features\n",
    "\n",
    "lstat_correlation = correlation_matrix['LSTAT'].drop('LSTAT')\n",
    "\n",
    " \n",
    "\n",
    "# Find the most and least correlated features\n",
    "\n",
    "most_correlated_feature = lstat_correlation.idxmax()\n",
    "\n",
    "least_correlated_feature = lstat_correlation.idxmin()\n",
    "\n",
    " \n",
    "\n",
    "# Print the results\n",
    "\n",
    "print(\"Most correlated feature with LSTAT:\", most_correlated_feature)\n",
    "\n",
    "print(\"Least correlated feature with LSTAT:\", least_correlated_feature)\n"
   ]
  },
  {
   "cell_type": "code",
   "execution_count": null,
   "metadata": {},
   "outputs": [],
   "source": []
  },
  {
   "cell_type": "markdown",
   "metadata": {},
   "source": [
    "### 2a) Plot HOUSEVALUE (our target) vs. LSTAT (our predictor)"
   ]
  },
  {
   "cell_type": "code",
   "execution_count": 43,
   "metadata": {},
   "outputs": [
    {
     "data": {
      "image/png": "[encoded data removed]",
      "text/plain": [
       "<Figure size 640x480 with 1 Axes>"
      ]
     },
     "metadata": {},
     "output_type": "display_data"
    }
   ],
   "source": [
    "import matplotlib.pyplot as plt \n",
    "#Plot HOUSEVALUE vs LSTAT\n",
    "plt.scatter (X ['LSTAT'], y)\n",
    "plt.xlabel ('LSTAT') \n",
    "plt.ylabel ('HOUSEVALUE') \n",
    "plt.title ('HOUSEVALUE vs LSTAT') \n",
    "plt.show()"
   ]
  },
  {
   "cell_type": "markdown",
   "metadata": {},
   "source": [
    "### 2b) Do you think that a linear regression is relevant for predicting HOUSEVALUE from LSTAT? Explain why."
   ]
  },
  {
   "cell_type": "code",
   "execution_count": 44,
   "metadata": {},
   "outputs": [],
   "source": [
    "#Linear regression assumes that the predictor variables are independent of each other. If there is a significant correlation between LSTAT and other predictors in the dataset, it might violate this assumption. In such cases, other regression techniques that handle multicollinearity\n",
    "\n",
    "#Homoscedasticity supports the use of linear regression.\n",
    "\n",
    "#Outliers and Influential Points\n",
    "\n",
    "#it appears that linear regression may be relevant for predicting HOUSEVALUE from LSTAT in this scenario.\n",
    "\n",
    "#it's essential to note that a thorough analysis should involve evaluating other regression models, assessing model assumptions, and considering additional variables before making a definitive conclusion on the most appropriate regression approach.\n"
   ]
  },
  {
   "cell_type": "markdown",
   "metadata": {},
   "source": [
    "### 3) Proceed to a split of the dataset. Keep 60% of the data for training. Bear in mind that you will have to give an accurate estimation of the performance of your best model at the end."
   ]
  },
  {
   "cell_type": "code",
   "execution_count": 45,
   "metadata": {},
   "outputs": [
    {
     "name": "stdout",
     "output_type": "stream",
     "text": [
      "Training set shape: (303, 12)\n",
      "Testing set shape: (203, 12)\n"
     ]
    }
   ],
   "source": [
    "from sklearn.model_selection import train_test_split\n",
    "\n",
    "# Split the dataset into training and testing sets\n",
    "\n",
    "X_train, X_test, y_train, y_test = train_test_split(X, y, test_size=0.4, random_state=42)\n",
    "\n",
    "# Verify the shape of the resulting sets\n",
    "\n",
    "print(\"Training set shape:\", X_train.shape)\n",
    "\n",
    "print(\"Testing set shape:\", X_test.shape)\n"
   ]
  },
  {
   "cell_type": "markdown",
   "metadata": {},
   "source": [
    "### 4a) Train a linear regression model with only LSTAT as a feature. "
   ]
  },
  {
   "cell_type": "code",
   "execution_count": 46,
   "metadata": {},
   "outputs": [
    {
     "name": "stdout",
     "output_type": "stream",
     "text": [
      "Coefficient: -1.0136705295702848\n",
      "Intercept: 35.576382502789876\n"
     ]
    }
   ],
   "source": [
    "from sklearn.linear_model import LinearRegression\n",
    "# Create a linear regression model\n",
    "\n",
    "model = LinearRegression()\n",
    "\n",
    "# Train the model using only LSTAT as a feature\n",
    "\n",
    "X_train_lstat = X_train[['LSTAT']]\n",
    "\n",
    "model.fit(X_train_lstat, y_train)\n",
    "\n",
    "# Print the coefficients and intercept of the model\n",
    "\n",
    "print(\"Coefficient:\", model.coef_[0])\n",
    "\n",
    "print(\"Intercept:\", model.intercept_)\n"
   ]
  },
  {
   "cell_type": "markdown",
   "metadata": {},
   "source": [
    "### 4b) Compute the performance metrics of the model (at least one interpretable metric of your choice).   How do you interpret that? Does the model have a reasonable error in this context?"
   ]
  },
  {
   "cell_type": "code",
   "execution_count": 47,
   "metadata": {},
   "outputs": [
    {
     "name": "stdout",
     "output_type": "stream",
     "text": [
      "Mean Squared Error (MSE): 38.54833547076398\n"
     ]
    }
   ],
   "source": [
    "from sklearn.metrics import mean_squared_error\n",
    "# Transform the test set feature\n",
    "\n",
    "X_test_lstat = X_test[['LSTAT']]\n",
    "\n",
    "# Make predictions on the test set\n",
    "\n",
    "y_pred = model.predict(X_test_lstat)\n",
    "\n",
    "# Compute the mean squared error\n",
    "\n",
    "mse = mean_squared_error(y_test, y_pred)\n",
    "\n",
    "print(\"Mean Squared Error (MSE):\", mse)\n"
   ]
  },
  {
   "cell_type": "code",
   "execution_count": null,
   "metadata": {},
   "outputs": [],
   "source": []
  },
  {
   "cell_type": "markdown",
   "metadata": {},
   "source": [
    "### 4c) What is the reggression coefficient (parameter) associated to LSTAT? Can you interpret this coefficient and explain how the model generates predictions for HOUSEVALUE mathematically?"
   ]
  },
  {
   "cell_type": "code",
   "execution_count": 48,
   "metadata": {},
   "outputs": [
    {
     "name": "stdout",
     "output_type": "stream",
     "text": [
      "Regression Coefficient: -1.0136705295702848\n"
     ]
    }
   ],
   "source": [
    "print(\"Regression Coefficient:\", model.coef_[0])"
   ]
  },
  {
   "cell_type": "code",
   "execution_count": null,
   "metadata": {},
   "outputs": [],
   "source": []
  },
  {
   "cell_type": "markdown",
   "metadata": {},
   "source": [
    "### 4d) Add the regression line on your plot HOUSEVALUE vs. LSTAT"
   ]
  },
  {
   "cell_type": "code",
   "execution_count": 49,
   "metadata": {},
   "outputs": [
    {
     "data": {
      "image/png": "[encoded data removed]",
      "text/plain": [
       "<Figure size 640x480 with 1 Axes>"
      ]
     },
     "metadata": {},
     "output_type": "display_data"
    }
   ],
   "source": [
    "# Generate predicted values based on the linear regression model\n",
    "\n",
    "y_pred = model.predict(X_test_lstat)\n",
    "\n",
    "# Plot HOUSEVALUE vs. LSTAT\n",
    "\n",
    "plt.scatter(X_test_lstat, y_test, color='blue', label='Actual')\n",
    "\n",
    "plt.plot(X_test_lstat, y_pred, color='red', linewidth=2, label='Regression Line')\n",
    "\n",
    "# Add labels and title to the plot\n",
    "\n",
    "plt.xlabel('LSTAT')\n",
    "\n",
    "plt.ylabel('HOUSEVALUE')\n",
    "\n",
    "plt.title('HOUSEVALUE vs. LSTAT')\n",
    "\n",
    "# Add a legend to the plot\n",
    "\n",
    "plt.legend()\n",
    "\n",
    "# Show the plot\n",
    "\n",
    "plt.show()\n"
   ]
  },
  {
   "cell_type": "markdown",
   "metadata": {},
   "source": [
    "### 5a) Use any feature engineering technique you know in order to train a better linear regression model that uses LSTAT to predict HOUSEVALUE  \n",
    "Hint: Look at the regression line you plotted in the last question. It seems like a straight line is not the best to fit this point cloud. Is there a technique we saw in class that allows you to fit a different curve while still using only LSTAT as a feature?"
   ]
  },
  {
   "cell_type": "code",
   "execution_count": 50,
   "metadata": {},
   "outputs": [],
   "source": [
    "\n",
    "from sklearn.preprocessing import PolynomialFeatures\n",
    "\n",
    "# Create polynomial features\n",
    "\n",
    "poly = PolynomialFeatures(degree=2)\n",
    "\n",
    "X_poly = poly.fit_transform(X_train_lstat)\n",
    "\n",
    "# Train a linear regression model using polynomial features\n",
    "\n",
    "model_poly = LinearRegression()\n",
    "\n",
    "model_poly.fit(X_poly, y_train)\n",
    "\n",
    "# Generate predicted values based on the polynomial regression model\n",
    "\n",
    "X_test_poly = poly.transform(X_test_lstat)\n",
    "\n",
    "y_pred_poly = model_poly.predict(X_test_poly)"
   ]
  },
  {
   "cell_type": "markdown",
   "metadata": {},
   "source": [
    "### 5b) Show the regression line of your new model on the plot HOUSEVALUE vs. LSTAT"
   ]
  },
  {
   "cell_type": "code",
   "execution_count": 52,
   "metadata": {},
   "outputs": [
    {
     "data": {
      "image/png": "[encoded data removed]",
      "text/plain": [
       "<Figure size 640x480 with 1 Axes>"
      ]
     },
     "metadata": {},
     "output_type": "display_data"
    }
   ],
   "source": [
    "# Generate predicted values based on the polynomial regression model\n",
    "\n",
    "y_pred_poly = model_poly.predict(X_test_poly)\n",
    "\n",
    "# Sort the LSTAT values and corresponding predictions for a smoother line\n",
    "\n",
    "sort_indices = np.argsort(X_test_poly[:, 0])\n",
    "\n",
    "X_test_lstat_sorted = X_test_poly[sort_indices, 0]\n",
    "\n",
    "y_pred_poly_sorted = y_pred_poly[sort_indices]\n",
    "\n",
    "\n",
    "# Plot HOUSEVALUE vs. LSTAT\n",
    "\n",
    "plt.scatter(X_test_poly[:, 0], y_test, color='blue', label='Actual')\n",
    "\n",
    "plt.plot(X_test_lstat_sorted, y_pred_poly_sorted, color='red', linewidth=2, label='Regression Line (Polynomial)')\n",
    "\n",
    "# Add labels and title to the plot\n",
    "\n",
    "plt.xlabel('LSTAT')\n",
    "\n",
    "plt.ylabel('HOUSEVALUE')\n",
    "\n",
    "plt.title('HOUSEVALUE vs. LSTAT')\n",
    "\n",
    "# Add a legend to the plot\n",
    "\n",
    "plt.legend()\n",
    "\n",
    "# Show the plot\n",
    "\n",
    "plt.show()"
   ]
  },
  {
   "cell_type": "markdown",
   "metadata": {},
   "source": [
    "### 5c) What are the performance metrics of your model now, compared to those of question 4b? Is this model better than the previous one? Why?"
   ]
  },
  {
   "cell_type": "code",
   "execution_count": 53,
   "metadata": {
    "scrolled": true
   },
   "outputs": [
    {
     "name": "stdout",
     "output_type": "stream",
     "text": [
      "RMSE (Polynomial Regression): 5.50787516656801\n",
      "RMSE (Polynomial Regression): 5.50787516656801\n",
      "RMSE (Linear Regression): 6.2087305844885865\n"
     ]
    }
   ],
   "source": [
    "from sklearn.metrics import mean_squared_error\n",
    "\n",
    "rmse_poly = np.sqrt(mean_squared_error(y_test, y_pred_poly))\n",
    "\n",
    "print(\"RMSE (Polynomial Regression):\", rmse_poly)\n",
    "\n",
    "#Compare this RMSE value with the RMSE obtained in question 4b for the linear regression model. If the RMSE for the polynomial regression model is lower, it indicates better performance.\n",
    "\n",
    "from sklearn.metrics import mean_squared_error\n",
    "\n",
    "# Calculate RMSE for polynomial regression model\n",
    "\n",
    "rmse_poly = np.sqrt(mean_squared_error(y_test, y_pred_poly))\n",
    "\n",
    "print(\"RMSE (Polynomial Regression):\", rmse_poly)\n",
    "\n",
    "\n",
    "# Calculate RMSE for linear regression model\n",
    "\n",
    "y_pred_linear = model.predict(X_test_lstat)  # Assuming 'model_linear' is the linear regression model\n",
    "\n",
    "rmse_linear = np.sqrt(mean_squared_error(y_test, y_pred_linear))\n",
    "\n",
    "print(\"RMSE (Linear Regression):\", rmse_linear)\n"
   ]
  },
  {
   "cell_type": "markdown",
   "metadata": {},
   "source": [
    "### 6a) Train a third regression model that uses all the avalilable features as predictors"
   ]
  },
  {
   "cell_type": "code",
   "execution_count": 54,
   "metadata": {},
   "outputs": [
    {
     "name": "stdout",
     "output_type": "stream",
     "text": [
      "RMSE: 4.703690838355474\n"
     ]
    }
   ],
   "source": [
    "from sklearn.model_selection import train_test_split\n",
    "from sklearn.linear_model import LinearRegression\n",
    "from sklearn.metrics import mean_squared_error\n",
    "\n",
    "# Define the features and target variables\n",
    "\n",
    "X = features  # All features\n",
    "\n",
    "y = target    # Target variable (HOUSEVALUE)\n",
    "\n",
    "# Split the data into training and testing sets\n",
    "\n",
    "X_train, X_test, y_train, y_test = train_test_split(X, y, test_size=0.4, random_state=42)\n",
    "\n",
    "# Train the regression model\n",
    "\n",
    "reg_model = LinearRegression()\n",
    "\n",
    "reg_model.fit(X_train, y_train)\n",
    "\n",
    "# Make predictions\n",
    "\n",
    "y_pred = reg_model.predict(X_test)\n",
    "\n",
    "# Evaluate the model's performance\n",
    "\n",
    "rmse = np.sqrt(mean_squared_error(y_test, y_pred))\n",
    "\n",
    "print(\"RMSE:\", rmse)"
   ]
  },
  {
   "cell_type": "markdown",
   "metadata": {},
   "source": [
    "### 6b) What are the performance metrics when you take all the features as predictors?"
   ]
  },
  {
   "cell_type": "code",
   "execution_count": 55,
   "metadata": {},
   "outputs": [
    {
     "name": "stdout",
     "output_type": "stream",
     "text": [
      "RMSE: 4.703690838355474\n"
     ]
    }
   ],
   "source": [
    "from sklearn.metrics import mean_squared_error\n",
    "\n",
    "# Calculate RMSE\n",
    "\n",
    "rmse = np.sqrt(mean_squared_error(y_test, y_pred))\n",
    "\n",
    "print(\"RMSE:\", rmse)"
   ]
  },
  {
   "cell_type": "markdown",
   "metadata": {},
   "source": [
    "### 7) Pick the best model you have trained in this exercise and give a reliable assessment its performance on unseen data. Comment on this generalization error."
   ]
  },
  {
   "cell_type": "code",
   "execution_count": null,
   "metadata": {},
   "outputs": [],
   "source": [
    "#The best model, a polynomial regression with all features, achieved an RMSE of 4.70 when evaluated on unseen data. This indicates that, on average, \n",
    "#the model's predictions deviate by approximately 4.70 units from the actual median house values.\n",
    "#While this model exhibits better predictive accuracy compared to others, there is still a potential for generalization error. \n",
    "#This error reflects the disparity between the model's performance on the training data and its performance on new, unseen data.\n",
    "#Minimizing generalization error involves avoiding overfitting and ensuring the model captures underlying patterns applicable to unseen instances through techniques like regularization and cross-validation."
   ]
  }
 ],
 "metadata": {
  "kernelspec": {
   "display_name": "Python 3 (ipykernel)",
   "language": "python",
   "name": "python3"
  },
  "language_info": {
   "codemirror_mode": {
    "name": "ipython",
    "version": 3
   },
   "file_extension": ".py",
   "mimetype": "text/x-python",
   "name": "python",
   "nbconvert_exporter": "python",
   "pygments_lexer": "ipython3",
   "version": "3.9.12"
  }
 },
 "nbformat": 4,
 "nbformat_minor": 4
}
